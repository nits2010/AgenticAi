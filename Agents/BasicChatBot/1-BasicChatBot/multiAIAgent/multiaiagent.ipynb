{
 "cells": [
  {
   "cell_type": "markdown",
   "id": "7115dc85",
   "metadata": {},
   "source": [
    "##  Simple MultiAI agent Architecture "
   ]
  },
  {
   "cell_type": "code",
   "execution_count": 1,
   "id": "0d2d6f08",
   "metadata": {},
   "outputs": [
    {
     "data": {
      "text/plain": [
       "True"
      ]
     },
     "execution_count": 1,
     "metadata": {},
     "output_type": "execute_result"
    }
   ],
   "source": [
    "from typing import List, Annotated\n",
    "from typing_extensions import TypedDict\n",
    "from langgraph.graph import MessagesState, StateGraph, START, END\n",
    "from langgraph.graph.message import add_messages\n",
    "from langchain_groq import ChatGroq\n",
    "from pydantic import SecretStr\n",
    "from IPython.display import Image, display\n",
    "from langchain_tavily import TavilySearch\n",
    "from langchain_community.tools.tavily_search import TavilySearchResults\n",
    "from langchain_tavily import TavilySearch\n",
    "from langgraph.prebuilt import ToolNode, tools_condition\n",
    "from langgraph.checkpoint.memory import MemorySaver # memory for llm \n",
    "from langgraph.types import Command, interrupt\n",
    "from langchain_core.tools import tool\n",
    "from langchain_core.messages import BaseMessage\n",
    "from langchain.chat_models import init_chat_model\n",
    "from dotenv import load_dotenv\n",
    "from IPython.display import Image, display\n",
    "from langgraph.graph import StateGraph, END, MessagesState\n",
    "from langchain_core.messages import SystemMessage\n",
    "\n",
    "\n",
    "\n",
    "# load env\n",
    "import os\n",
    "load_dotenv()\n",
    "\n"
   ]
  },
  {
   "cell_type": "code",
   "execution_count": 2,
   "id": "d005efb7",
   "metadata": {},
   "outputs": [],
   "source": [
    "os.environ[\"LANGSMITH_TRACING\"]=\"true\"\n",
    "\n",
    "# set keys\n",
    "\n",
    "langsmit_key = os.getenv(\"LANGSMITH_API_KEY\")\n",
    "if langsmit_key is None:\n",
    "    raise EnvironmentError(\"LANGSMITH_API_KEY is not set in the environment.\")\n",
    "os.environ[\"LANGSMITH_API_KEY\"] = langsmit_key\n",
    "\n",
    "groq_key = os.getenv(\"GROQ_API_KEY\")\n",
    "if groq_key is None or langsmit_key is None:\n",
    "    raise EnvironmentError(\"GROQ_API_KEY is not set in the environment.\")\n",
    "os.environ[\"GROQ_API_KEY\"] = groq_key\n",
    "\n",
    "\n",
    "# setup endpoint\n",
    "os.environ[\"LANGSMITH_TRACING\"] = \"https://api.smith.langchain.com\"\n",
    "os.environ[\"LANGSMITH_PROJECT\"] = \"Simple_multi_agent\"\n",
    "\n",
    "# LANGSMITH_PROJECT=\"pr-warmhearted-fiesta-95\"\n",
    "# OPENAI_API_KEY=\"<your-openai-api-key>\""
   ]
  },
  {
   "cell_type": "code",
   "execution_count": 3,
   "id": "018e7199",
   "metadata": {},
   "outputs": [],
   "source": [
    "#define state\n",
    "class AgentState(MessagesState):\n",
    "    next_agent:str #decide which agent should go next\n",
    "    "
   ]
  },
  {
   "cell_type": "code",
   "execution_count": 4,
   "id": "cbcb139e",
   "metadata": {},
   "outputs": [],
   "source": [
    "#visualize graph\n",
    "from IPython.display import Image, display\n",
    "def display_graph(graph):\n",
    "    try:\n",
    "        display(Image(graph.get_graph().draw_mermaid_png()))\n",
    "    except Exception as e:\n",
    "        print(e)\n",
    "        "
   ]
  },
  {
   "cell_type": "code",
   "execution_count": 17,
   "id": "d3bfd353",
   "metadata": {},
   "outputs": [],
   "source": [
    "\n",
    "def message_builder(role, message):\n",
    "    return {\"messages\": [{\"role\": role, \"content\": message}]}\n",
    "\n",
    "def invoke_message(graph, message, role=\"user\", config=None):\n",
    "    item=message_builder(role, message)\n",
    "    if not config:\n",
    "        return graph.invoke(item)\n",
    "    return graph.invoke(item, config)\n",
    "\n",
    "def pretty_print(response):\n",
    "    for message in response['messages']:\n",
    "        message.pretty_print()"
   ]
  },
  {
   "cell_type": "code",
   "execution_count": 6,
   "id": "20cd61eb",
   "metadata": {},
   "outputs": [],
   "source": [
    "# Create simple tools\n",
    "\n",
    "@tool\n",
    "def search_web(query:str) -> str:\n",
    "    \"\"\" Search the web for information. \"\"\"\n",
    "    #using Tavily Search \n",
    "    search = TavilySearchResults(max_results=3)\n",
    "    results = search.invoke(query=query)\n",
    "    return str(results)\n",
    "\n",
    "@tool\n",
    "def write_summary(content:str) -> str:\n",
    "    \"\"\" Write a summary of provided coontent. \"\"\"\n",
    "    # Simple summary generation \n",
    "    summary = f\"Summary of findings : \\n\\n {content[:500]}\"\n",
    "    return summary\n",
    "\n",
    "tools = [search_web, write_summary]"
   ]
  },
  {
   "cell_type": "code",
   "execution_count": 7,
   "id": "d44843c8",
   "metadata": {},
   "outputs": [],
   "source": [
    "llm = ChatGroq(\n",
    "    model=\"llama3-8b-8192\",\n",
    "    api_key=SecretStr(os.environ[\"GROQ_API_KEY\"])\n",
    ")"
   ]
  },
  {
   "cell_type": "code",
   "execution_count": 8,
   "id": "fbb4892f",
   "metadata": {},
   "outputs": [],
   "source": [
    "# Define agent function (simpler approach)\n",
    "def researcher_agent(state:AgentState):\n",
    "    \"\"\" Researcher agent that search for informations \"\"\"\n",
    "    \n",
    "    message = state[\"messages\"]\n",
    "    \n",
    "    # Add system message for context\n",
    "    system_msg = SystemMessage(content=\"You are a researcher assistant. Use the search_web tool to find details about the query given \")\n",
    "    \n",
    "    #cakk LLM with tools\n",
    "    tools = [search_web]\n",
    "    researcher_llm = llm.bind_tools(tools)\n",
    "    research_response = researcher_llm.invoke([system_msg] + message)\n",
    "    \n",
    "    #Return the response and route it to writer\n",
    "    return {\n",
    "        \"messages\":[research_response],\n",
    "        \"next_agent\":\"writer\"\n",
    "    } "
   ]
  },
  {
   "cell_type": "code",
   "execution_count": 9,
   "id": "4a3741f8",
   "metadata": {},
   "outputs": [],
   "source": [
    "# Define agent function (simpler approach)\n",
    "def writer_agent(state:AgentState):\n",
    "    \"\"\" Writer agent that summarize theinformations \"\"\"\n",
    "    \n",
    "    message = state[\"messages\"]\n",
    "    \n",
    "    # Add system message for context\n",
    "    system_msg = SystemMessage(content=\"You are a technical writer. Revie the conversation and create a consise summary out it.\")\n",
    "    \n",
    "    # Simple completion without tools\n",
    "    writer_response = llm.invoke([system_msg]+message)\n",
    "    \n",
    "\n",
    "    \n",
    "    #Return the response and route it to writer\n",
    "    return {\n",
    "        \"messages\":[writer_response],\n",
    "        \"next_agent\":\"ned\"\n",
    "    } "
   ]
  },
  {
   "cell_type": "code",
   "execution_count": 10,
   "id": "9ec0c66d",
   "metadata": {},
   "outputs": [],
   "source": [
    "# Tool executor node\n",
    "def execute_tools(state: AgentState):\n",
    "    \"\"\" Execute any pending tools calls\"\"\"\n",
    "    messages = state[\"messages\"]\n",
    "    last_message = messages[-1]\n",
    "    \n",
    "    #check if there are tool calls to execute\n",
    "    if hasattr(last_message, \"tool_calls\") and last_message.tool_calls:\n",
    "        #create tool node and execute\n",
    "        tool_node = ToolNode(tools)\n",
    "        response = tool_node.invoke(state)\n",
    "        return response\n",
    "    \n",
    "    # No tools to execute\n",
    "    return state"
   ]
  },
  {
   "cell_type": "code",
   "execution_count": 11,
   "id": "fb2272a1",
   "metadata": {},
   "outputs": [
    {
     "data": {
      "image/png": "[encoded data removed]",
      "text/plain": [
       "<IPython.core.display.Image object>"
      ]
     },
     "metadata": {},
     "output_type": "display_data"
    }
   ],
   "source": [
    "#  Multi agent graph\n",
    "workflow = StateGraph(MessagesState)\n",
    "\n",
    "# Add nodes\n",
    "workflow.add_node(\"researcher\", researcher_agent)\n",
    "workflow.add_node(\"writer\", writer_agent)\n",
    "\n",
    "# Define flow\n",
    "workflow.set_entry_point(\"researcher\")\n",
    "workflow.add_edge(\"researcher\", \"writer\")\n",
    "workflow.add_edge(\"writer\", END)\n",
    "final_workflow = workflow.compile()\n",
    "\n",
    "display_graph(final_workflow)\n",
    "\n"
   ]
  },
  {
   "cell_type": "code",
   "execution_count": 28,
   "id": "4b146f50",
   "metadata": {},
   "outputs": [
    {
     "data": {
      "text/plain": [
       "' \\n\\nI\\'ve conducted a thorough research on the topic of \"Agentic AI in Business\". After analyzing various articles, blogs, and research papers, I\\'ve summarized the key findings below:\\n\\n**Definition of Agentic AI:**\\nAgentic AI refers to artificial intelligence systems that possess the ability to act on their own behalf, making decisions and taking actions that align with their goals and objectives. This type of AI is often referred to as \"intelligent agents\" or \" autonomous agents\".\\n\\n**Benefits of Agentic AI in Business:**\\nThe use of agentic AI in business can bring numerous benefits, including:\\n\\n1. **Increased Efficiency:** Agentic AI can automate routine tasks, freeing up human resources for more strategic and creative work.\\n2. **Improved Decision-Making:** Agentic AI can analyze large amounts of data, identify patterns, and make recommendations, allowing businesses to make more informed decisions.\\n3. **Enhanced Customer Experience:** Agentic AI can analyze customer behavior, preferences, and feedback, enabling businesses to provide personalized services and improve customer satisfaction.\\n4. **Competitive Advantage:** By leveraging agentic AI, businesses can differentiate themselves from competitors and gain a competitive edge.\\n\\n**Examples of Agentic AI in Business:**\\n\\n1. **Customer Service Chatbots:** Many companies use chatbots to provide 24/7 customer support, answering frequently asked questions, and routing complex issues to human representatives.\\n2. **Predictive Maintenance:** Industrial equipment and machinery can be equipped with agentic AI that detects potential issues, schedules maintenance, and reduces downtime.\\n3. **Supply Chain Optimization:** Agentic AI can analyze supply chain data, predict demand, and optimize logistics, reducing costs and improving delivery times.\\n4. **Marketing Automation:** Agentic AI can analyze customer data, personalize marketing campaigns, and optimize ad spend, improving campaign effectiveness.\\n\\n**Challenges and Concerns:**\\nWhile agentic AI has many benefits, there are also concerns and challenges to consider:\\n\\n1. **Job Displacement:** The automation of routine tasks may displace certain jobs, requiring businesses to retrain and upskill their workforce.\\n2. **Data Quality and Bias:** Agentic AI relies heavily on data quality and can perpetuate biases if the data is biased.\\n3. **Ethical Considerations:** As agentic AI makes decisions, it\\'s essential to consider ethical implications and ensure that AI systems are transparent, accountable, and fair.\\n\\n**Conclusion:**\\nAgentic AI has the potential to transform businesses by increasing efficiency, improving decision-making, and enhancing customer experience. However, it\\'s crucial to address the challenges and concerns associated with its implementation, ensuring that AI systems are designed and deployed in a responsible and ethical manner.'"
      ]
     },
     "execution_count": 28,
     "metadata": {},
     "output_type": "execute_result"
    }
   ],
   "source": [
    "response = invoke_message(graph=final_workflow, message=\"Research about the usecase about the agentic ai in business\", role=\"user\")\n",
    "response[\"messages\"][-1].content"
   ]
  },
  {
   "cell_type": "code",
   "execution_count": null,
   "id": "c48ff17d",
   "metadata": {},
   "outputs": [],
   "source": []
  }
 ],
 "metadata": {
  "kernelspec": {
   "display_name": "myenv",
   "language": "python",
   "name": "myenv"
  },
  "language_info": {
   "codemirror_mode": {
    "name": "ipython",
    "version": 3
   },
   "file_extension": ".py",
   "mimetype": "text/x-python",
   "name": "python",
   "nbconvert_exporter": "python",
   "pygments_lexer": "ipython3",
   "version": "3.11.9"
  }
 },
 "nbformat": 4,
 "nbformat_minor": 5
}
